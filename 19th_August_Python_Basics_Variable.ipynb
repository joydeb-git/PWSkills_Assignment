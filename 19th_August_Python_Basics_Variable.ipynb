{
 "cells": [
  {
   "cell_type": "code",
   "execution_count": 5,
   "id": "d563b1d5-6058-4d20-a29c-a1b6eaa35803",
   "metadata": {},
   "outputs": [
    {
     "name": "stdout",
     "output_type": "stream",
     "text": [
      "The value of x is 20\n",
      "The value of y is 10\n"
     ]
    }
   ],
   "source": [
    "'''\n",
    "1. Declare two variables, `x` and `y`, and assign them integer values.\n",
    "Swap the values of these variables without using any temporary\n",
    "variable.\n",
    "'''\n",
    "x,y = 10,20\n",
    "x,y = y,x\n",
    "print(\"The value of x is \"+str(x))\n",
    "print(\"The value of y is \"+str(y))"
   ]
  },
  {
   "cell_type": "code",
   "execution_count": 7,
   "id": "b665cc75-5fd3-4b69-ad07-a02787b85ea2",
   "metadata": {},
   "outputs": [
    {
     "name": "stdin",
     "output_type": "stream",
     "text": [
      " 10\n",
      " 20\n"
     ]
    },
    {
     "name": "stdout",
     "output_type": "stream",
     "text": [
      "The area of rectangle is 200\n"
     ]
    }
   ],
   "source": [
    "'''\n",
    "2. Create a program that calculates the area of a rectangle. Take the\n",
    "length and width as inputs from the user and store them in variables.\n",
    "Calculate and display the area.\n",
    "'''\n",
    "length = int(input())\n",
    "width = int(input())\n",
    "area = length * width\n",
    "print(\"The area of rectangle is \"+str(area))"
   ]
  },
  {
   "cell_type": "code",
   "execution_count": 11,
   "id": "f87b45ba-cd2a-495b-82ba-70e3a046edf9",
   "metadata": {},
   "outputs": [
    {
     "name": "stdin",
     "output_type": "stream",
     "text": [
      " 10.5\n"
     ]
    },
    {
     "name": "stdout",
     "output_type": "stream",
     "text": [
      "Fahrenheit value of 10.5 degree is: 50.9\n"
     ]
    }
   ],
   "source": [
    "'''\n",
    "3. Write a Python program that converts temperature from Celsius to\n",
    "Fahrenheit. Take the temperature in Celsius as input, store it in a\n",
    "variable, convert it to Fahrenheit, and display the result.\n",
    "'''\n",
    "celsius = float(input())\n",
    "fahrenheit = (celsius * (9/5)) + 32\n",
    "print(\"Fahrenheit value of \"+str(celsius)+\" degree is: \"+str(round(fahrenheit,2)))"
   ]
  }
 ],
 "metadata": {
  "kernelspec": {
   "display_name": "Python 3 (ipykernel)",
   "language": "python",
   "name": "python3"
  },
  "language_info": {
   "codemirror_mode": {
    "name": "ipython",
    "version": 3
   },
   "file_extension": ".py",
   "mimetype": "text/x-python",
   "name": "python",
   "nbconvert_exporter": "python",
   "pygments_lexer": "ipython3",
   "version": "3.10.8"
  }
 },
 "nbformat": 4,
 "nbformat_minor": 5
}
