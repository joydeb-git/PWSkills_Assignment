{
 "cells": [
  {
   "cell_type": "code",
   "execution_count": 2,
   "id": "67d85197-0312-4ace-a025-3dfc18894aa0",
   "metadata": {},
   "outputs": [
    {
     "name": "stdin",
     "output_type": "stream",
     "text": [
      " Joydeb Goswami\n"
     ]
    },
    {
     "name": "stdout",
     "output_type": "stream",
     "text": [
      "The length of name is 14\n"
     ]
    }
   ],
   "source": [
    "'''\n",
    "1. Write a Python program that takes a string as input and prints the\n",
    "length of the string.\n",
    "'''\n",
    "name = str(input())\n",
    "print(\"The length of name is \" + str(len(name)))"
   ]
  },
  {
   "cell_type": "code",
   "execution_count": 7,
   "id": "1207573a-58d0-40b7-b707-6948f5069559",
   "metadata": {},
   "outputs": [
    {
     "name": "stdin",
     "output_type": "stream",
     "text": [
      " JOYDEB GOSWAMI\n"
     ]
    },
    {
     "name": "stdout",
     "output_type": "stream",
     "text": [
      "Number of vowels are:5\n"
     ]
    }
   ],
   "source": [
    "'''\n",
    "2. Create a program that takes a sentence from the user and counts the\n",
    "number of vowels (a, e, i, o, u) in the string.\n",
    "'''\n",
    "sentence = str(input())\n",
    "vowels = 0\n",
    "for i in sentence.lower():\n",
    "      if(i=='a' or i=='e' or i=='i' or i=='o' or i=='u'):\n",
    "            vowels=vowels+1\n",
    "print(\"Number of vowels are:\"+str(vowels))"
   ]
  },
  {
   "cell_type": "code",
   "execution_count": 9,
   "id": "bf189615-ee8b-4963-a342-e9f6f8b3d86f",
   "metadata": {},
   "outputs": [
    {
     "name": "stdout",
     "output_type": "stream",
     "text": [
      "sllikswp\n"
     ]
    }
   ],
   "source": [
    "'''3. Given a string, reverse the order of characters using string slicing and\n",
    "print the reversed string.'''\n",
    "string = 'pwskills'\n",
    "count = len(string)\n",
    "print(string[(count-1)::-1])"
   ]
  },
  {
   "cell_type": "code",
   "execution_count": 1,
   "id": "590d8632-863c-4b3e-9804-e825ae0d4030",
   "metadata": {},
   "outputs": [
    {
     "name": "stdin",
     "output_type": "stream",
     "text": [
      " 121\n"
     ]
    },
    {
     "name": "stdout",
     "output_type": "stream",
     "text": [
      "121 is a palindrome number\n"
     ]
    }
   ],
   "source": [
    "'''\n",
    "4. Write a program that takes a string as input and checks if it is a\n",
    "palindrome (reads the same forwards and backwards).\n",
    "'''\n",
    "inputString = str(input())\n",
    "count = len(inputString)\n",
    "reversedString = inputString[(count-1)::-1]\n",
    "if(inputString == reversedString):\n",
    "    print(inputString +\" is a palindrome number\")\n",
    "else:\n",
    "    print(inputString +\" is not a palindrome number\")"
   ]
  },
  {
   "cell_type": "code",
   "execution_count": 2,
   "id": "caea4fbd-ba4b-4d0d-930f-2fa7818b8aa4",
   "metadata": {
    "tags": []
   },
   "outputs": [
    {
     "name": "stdin",
     "output_type": "stream",
     "text": [
      " Joydeb Goswami\n"
     ]
    },
    {
     "name": "stdout",
     "output_type": "stream",
     "text": [
      "JoydebGoswami\n"
     ]
    }
   ],
   "source": [
    "'''\n",
    "5. Create a program that takes a string as input and removes all the\n",
    "spaces from it. Print the modified string without spaces.\n",
    "'''\n",
    "string = str(input())\n",
    "print(string.replace(\" \",\"\"))"
   ]
  },
  {
   "cell_type": "code",
   "execution_count": null,
   "id": "37d3e20a-d6e3-42b7-9072-13c992bb1ef1",
   "metadata": {},
   "outputs": [],
   "source": []
  }
 ],
 "metadata": {
  "kernelspec": {
   "display_name": "Python 3 (ipykernel)",
   "language": "python",
   "name": "python3"
  },
  "language_info": {
   "codemirror_mode": {
    "name": "ipython",
    "version": 3
   },
   "file_extension": ".py",
   "mimetype": "text/x-python",
   "name": "python",
   "nbconvert_exporter": "python",
   "pygments_lexer": "ipython3",
   "version": "3.10.8"
  }
 },
 "nbformat": 4,
 "nbformat_minor": 5
}
